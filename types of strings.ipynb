{
 "cells": [
  {
   "cell_type": "markdown",
   "id": "cf69d8d4",
   "metadata": {},
   "source": [
    "# STRINGS"
   ]
  },
  {
   "cell_type": "markdown",
   "id": "68c86dd5",
   "metadata": {},
   "source": [
    "## In Python, a string is a data type used to represent text. A string is a sequence of characters, and it can contain letters, numbers, symbols, or any combination of these. Strings are a fundamental data type in Python and are enclosed in either single quotes ('...') or double quotes (\"...\") or triple-quotes ('''...''' or \"\"\"...\"\"\").\n",
    "\n",
    "## Creating Strings:\n",
    "\n",
    "## Single Quotes: 'Hello, World!'\n",
    "## Double Quotes: \"Python is great!\"\n",
    "## Triple Quotes (for multiline strings):"
   ]
  },
  {
   "cell_type": "code",
   "execution_count": 15,
   "id": "fb04656c",
   "metadata": {},
   "outputs": [],
   "source": [
    "s1='this is a string, enclosed in single quotes'\n",
    "s2=\"this is a string, enclosed in double quotes\"\n",
    "s3='''this is a multi-string enclosed, in triple single quotes'''"
   ]
  },
  {
   "cell_type": "code",
   "execution_count": 17,
   "id": "22f93fa7",
   "metadata": {},
   "outputs": [
    {
     "name": "stdout",
     "output_type": "stream",
     "text": [
      "this is a string, enclosed in single quotes\n",
      "this is a string, enclosed in double quotes\n",
      "this is a multi-string enclosed, in triple single quotes\n"
     ]
    }
   ],
   "source": [
    "print(s1, s2, s3, sep='\\n')"
   ]
  },
  {
   "cell_type": "code",
   "execution_count": 18,
   "id": "88066f91",
   "metadata": {},
   "outputs": [],
   "source": [
    "#escape"
   ]
  },
  {
   "cell_type": "code",
   "execution_count": 19,
   "id": "7b8d1288",
   "metadata": {},
   "outputs": [
    {
     "data": {
      "text/plain": [
       "\"this is alex code'and best in world\""
      ]
     },
     "execution_count": 19,
     "metadata": {},
     "output_type": "execute_result"
    }
   ],
   "source": [
    "a= 'this is alex code\\'and best in world'\n",
    "a"
   ]
  },
  {
   "cell_type": "code",
   "execution_count": 20,
   "id": "1460ae80",
   "metadata": {},
   "outputs": [
    {
     "name": "stdout",
     "output_type": "stream",
     "text": [
      "a\n",
      "b\n",
      "a\tb\n",
      "c\n"
     ]
    }
   ],
   "source": [
    "print('a\\nb') # new line\n",
    "print('a\\tb') # tab/four space \n",
    "print('a\\rc') # move the cursur to start line"
   ]
  },
  {
   "cell_type": "markdown",
   "id": "d45542ee",
   "metadata": {},
   "source": [
    "# different types of strings\n",
    "### raw strings and format strings"
   ]
  },
  {
   "cell_type": "markdown",
   "id": "bbf07540",
   "metadata": {},
   "source": [
    "![](https://www.google.com/url?sa=i&url=https%3A%2F%2Fwww.stratascratch.com%2Fblog%2Funderstanding-data-types-in-python-with-examples%2F&psig=AOvVaw3wVzMZE9WfsfrTAU1hv4AS&ust=1697649913059000&source=images&cd=vfe&opi=89978449&ved=0CBEQjRxqFwoTCLD3qYzN_YEDFQAAAAAdAAAAABAD)"
   ]
  },
  {
   "cell_type": "markdown",
   "id": "93d2abee",
   "metadata": {},
   "source": [
    "![](https://cdn.sanity.io/images/oaglaatp/production/8ce59cadb1304c32104931bf008b453a76ed529b-3200x2400.png?w=3200&h=2400&auto=format)"
   ]
  },
  {
   "cell_type": "code",
   "execution_count": 21,
   "id": "e1a3322b",
   "metadata": {},
   "outputs": [
    {
     "name": "stdout",
     "output_type": "stream",
     "text": [
      "the volume of a cylinder, whose radius is 5 whose h is 7 is 550.0\n",
      "the volume of a cylinder whose r and h are 5 and 7 respectivly is 550.0\n"
     ]
    }
   ],
   "source": [
    "r, h = 5, 7\n",
    "vol = (22/7)*(r**2)*h\n",
    "print('the volume of a cylinder, whose radius is', r,'whose h is', h, 'is', vol)\n",
    "print(f'the volume of a cylinder whose r and h are {r} and {h} respectivly is {vol}')"
   ]
  },
  {
   "cell_type": "code",
   "execution_count": 22,
   "id": "b959cf8f",
   "metadata": {},
   "outputs": [
    {
     "name": "stdout",
     "output_type": "stream",
     "text": [
      "523.8095238095237\n"
     ]
    }
   ],
   "source": [
    "pi = 22/7\n",
    "d = 10\n",
    "h = 4/3\n",
    "r = d/2\n",
    "v = pi*(r**3)*h\n",
    "print(v)"
   ]
  },
  {
   "cell_type": "markdown",
   "id": "4646a656",
   "metadata": {},
   "source": [
    "# positive index"
   ]
  },
  {
   "cell_type": "code",
   "execution_count": 23,
   "id": "d89980a0",
   "metadata": {},
   "outputs": [],
   "source": [
    "x = 'python'"
   ]
  },
  {
   "cell_type": "code",
   "execution_count": 24,
   "id": "07ffbfef",
   "metadata": {},
   "outputs": [
    {
     "name": "stdout",
     "output_type": "stream",
     "text": [
      "h\n"
     ]
    }
   ],
   "source": [
    "print(x[3]) # accesing h"
   ]
  },
  {
   "cell_type": "markdown",
   "id": "447a44f5",
   "metadata": {},
   "source": [
    "# reverse indexing"
   ]
  },
  {
   "cell_type": "code",
   "execution_count": 25,
   "id": "f55ec4d1",
   "metadata": {},
   "outputs": [],
   "source": [
    "x = 'this is alex code'"
   ]
  },
  {
   "cell_type": "code",
   "execution_count": 26,
   "id": "2260c3de",
   "metadata": {},
   "outputs": [
    {
     "name": "stdout",
     "output_type": "stream",
     "text": [
      "x\n"
     ]
    }
   ],
   "source": [
    "print(x[-6]) # USING NEGATIVE INDEX or reverse indexing"
   ]
  },
  {
   "cell_type": "markdown",
   "id": "cee7e105",
   "metadata": {},
   "source": [
    "# slicing\n",
    "### positive and negative "
   ]
  },
  {
   "cell_type": "code",
   "execution_count": 27,
   "id": "80b16fbf",
   "metadata": {},
   "outputs": [
    {
     "data": {
      "text/plain": [
       "'this is alex best code in world'"
      ]
     },
     "execution_count": 27,
     "metadata": {},
     "output_type": "execute_result"
    }
   ],
   "source": [
    "a='this is alex best code in world'\n",
    "a"
   ]
  },
  {
   "cell_type": "code",
   "execution_count": 28,
   "id": "1a0d6f24",
   "metadata": {},
   "outputs": [
    {
     "data": {
      "text/plain": [
       "'this is a'"
      ]
     },
     "execution_count": 28,
     "metadata": {},
     "output_type": "execute_result"
    }
   ],
   "source": [
    "a[0:9]"
   ]
  },
  {
   "cell_type": "code",
   "execution_count": 29,
   "id": "c3de56a1",
   "metadata": {},
   "outputs": [
    {
     "data": {
      "text/plain": [
       "'this is alex best code in world'"
      ]
     },
     "execution_count": 29,
     "metadata": {},
     "output_type": "execute_result"
    }
   ],
   "source": [
    "a[0:31]"
   ]
  },
  {
   "cell_type": "code",
   "execution_count": 30,
   "id": "936c120b",
   "metadata": {},
   "outputs": [
    {
     "data": {
      "text/plain": [
       "'this is a'"
      ]
     },
     "execution_count": 30,
     "metadata": {},
     "output_type": "execute_result"
    }
   ],
   "source": [
    "a[0:9:1]"
   ]
  },
  {
   "cell_type": "code",
   "execution_count": 31,
   "id": "d2956389",
   "metadata": {},
   "outputs": [
    {
     "data": {
      "text/plain": [
       "'best '"
      ]
     },
     "execution_count": 31,
     "metadata": {},
     "output_type": "execute_result"
    }
   ],
   "source": [
    "a[13:18]"
   ]
  },
  {
   "cell_type": "code",
   "execution_count": 32,
   "id": "67fd9508",
   "metadata": {},
   "outputs": [
    {
     "data": {
      "text/plain": [
       "'do'"
      ]
     },
     "execution_count": 32,
     "metadata": {},
     "output_type": "execute_result"
    }
   ],
   "source": [
    "a[-1:-7:-3]"
   ]
  },
  {
   "cell_type": "code",
   "execution_count": 33,
   "id": "69973465",
   "metadata": {},
   "outputs": [
    {
     "data": {
      "text/plain": [
       "'python'"
      ]
     },
     "execution_count": 33,
     "metadata": {},
     "output_type": "execute_result"
    }
   ],
   "source": [
    "x='python'\n",
    "x"
   ]
  },
  {
   "cell_type": "code",
   "execution_count": 34,
   "id": "31abb819",
   "metadata": {},
   "outputs": [
    {
     "data": {
      "text/plain": [
       "'nohtyp'"
      ]
     },
     "execution_count": 34,
     "metadata": {},
     "output_type": "execute_result"
    }
   ],
   "source": [
    "x[-1:-7:-1]"
   ]
  },
  {
   "cell_type": "code",
   "execution_count": 35,
   "id": "d6b0da64",
   "metadata": {},
   "outputs": [
    {
     "data": {
      "text/plain": [
       "'nohty'"
      ]
     },
     "execution_count": 35,
     "metadata": {},
     "output_type": "execute_result"
    }
   ],
   "source": [
    "x[6:0:-1]"
   ]
  },
  {
   "cell_type": "code",
   "execution_count": null,
   "id": "af149bcb",
   "metadata": {},
   "outputs": [],
   "source": []
  }
 ],
 "metadata": {
  "kernelspec": {
   "display_name": "Python 3 (ipykernel)",
   "language": "python",
   "name": "python3"
  },
  "language_info": {
   "codemirror_mode": {
    "name": "ipython",
    "version": 3
   },
   "file_extension": ".py",
   "mimetype": "text/x-python",
   "name": "python",
   "nbconvert_exporter": "python",
   "pygments_lexer": "ipython3",
   "version": "3.11.5"
  }
 },
 "nbformat": 4,
 "nbformat_minor": 5
}
